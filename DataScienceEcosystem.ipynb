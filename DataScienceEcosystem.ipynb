{
 "cells": [
  {
   "cell_type": "markdown",
   "id": "1727d2f2",
   "metadata": {},
   "source": [
    " # DataScienceEcosystem"
   ]
  },
  {
   "cell_type": "markdown",
   "id": "c95fedb7",
   "metadata": {},
   "source": [
    "## Author\n",
    "Mohamed Yehia Zakaria "
   ]
  },
  {
   "cell_type": "markdown",
   "id": "dd3bb443",
   "metadata": {},
   "source": [
    "In this notebook, Data Science Tools and Ecosystem are summarized."
   ]
  },
  {
   "cell_type": "markdown",
   "id": "ff9d808e",
   "metadata": {},
   "source": [
    "Some of the popular languages that Data Scientists use are:"
   ]
  },
  {
   "cell_type": "markdown",
   "id": "e3d463d4",
   "metadata": {},
   "source": [
    "1. python\n",
    "2. R\n",
    "3. Java"
   ]
  },
  {
   "cell_type": "markdown",
   "id": "bbc47848",
   "metadata": {},
   "source": [
    "___Objectives:___\n",
    "- List popular languages for Data Science\n",
    "- Listpopular libraries used by data scientists\n",
    "- List data science tools"
   ]
  },
  {
   "cell_type": "markdown",
   "id": "a8821419",
   "metadata": {},
   "source": [
    "Some of the commonly used libraries used by Data Scientists include:\n",
    "1. Matplotlib\n",
    "2. Numpy\n",
    "3. sckit learn\n",
    "4. tensorflow"
   ]
  },
  {
   "cell_type": "markdown",
   "id": "2872a4de",
   "metadata": {},
   "source": [
    "|Data Science Tools|\n",
    "|------------------|\n",
    "|Watson studio|\n",
    "|Anaconda|\n",
    "|Rstudio|"
   ]
  },
  {
   "cell_type": "markdown",
   "id": "6d1ff88c",
   "metadata": {},
   "source": [
    "### Below are a few examples of evaluating arithmetic expressions in Python"
   ]
  },
  {
   "cell_type": "code",
   "execution_count": 1,
   "id": "a00c0394",
   "metadata": {},
   "outputs": [
    {
     "data": {
      "text/plain": [
       "17"
      ]
     },
     "execution_count": 1,
     "metadata": {},
     "output_type": "execute_result"
    }
   ],
   "source": [
    "# This a simple arithmetic expression to mutiply then add integers\n",
    "(3*4)+5"
   ]
  },
  {
   "cell_type": "code",
   "execution_count": null,
   "id": "33ec52a1",
   "metadata": {},
   "outputs": [],
   "source": []
  }
 ],
 "metadata": {
  "kernelspec": {
   "display_name": "Python 3",
   "language": "python",
   "name": "python3"
  },
  "language_info": {
   "codemirror_mode": {
    "name": "ipython",
    "version": 3
   },
   "file_extension": ".py",
   "mimetype": "text/x-python",
   "name": "python",
   "nbconvert_exporter": "python",
   "pygments_lexer": "ipython3",
   "version": "3.12.3"
  }
 },
 "nbformat": 4,
 "nbformat_minor": 5
}
